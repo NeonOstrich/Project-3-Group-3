{
 "cells": [
  {
   "cell_type": "code",
   "execution_count": 8,
   "metadata": {},
   "outputs": [],
   "source": [
    "import pandas as pd\n"
   ]
  },
  {
   "cell_type": "code",
   "execution_count": 9,
   "metadata": {},
   "outputs": [],
   "source": [
    "# Load CSV file into a Pandas DataFrame\n",
    "df = pd.read_csv('infant_mortality.csv', encoding='latin-1')"
   ]
  },
  {
   "cell_type": "code",
   "execution_count": 10,
   "metadata": {},
   "outputs": [],
   "source": [
    "# Define database connection parameters\n",
    "database = 'infant_mortality.sql'\n",
    "table_name = 'infant_mortality'"
   ]
  },
  {
   "cell_type": "code",
   "execution_count": 11,
   "metadata": {},
   "outputs": [],
   "source": [
    "# Open file for writing SQL statements\n",
    "with open(database, 'w') as f:\n",
    "    \n",
    "    # Write SQL statements for creating table\n",
    "    create_table = f'CREATE TABLE {table_name} (country TEXT, infant_mortality_rate REAL, gender TEXT, year INTEGER);\\n'\n",
    "    f.write(create_table)\n",
    "    \n",
    "    # Write SQL statements for inserting data\n",
    "    insert_template = f'INSERT INTO {table_name} (country, infant_mortality_rate, gender, year) VALUES '\n",
    "    for i, row in df.iterrows():\n",
    "        values = f'(\"{row[\"Country\"]}\", {row[\"Infant Mortality Rate\"]}, \"{row[\"Gender\"]}\", {row[\"Year\"]})'\n",
    "        if i == len(df) - 1:\n",
    "            insert_statement = f'{insert_template}{values};\\n'\n",
    "        else:\n",
    "            insert_statement = f'{insert_template}{values},\\n'\n",
    "        f.write(insert_statement)"
   ]
  },
  {
   "cell_type": "code",
   "execution_count": 27,
   "metadata": {},
   "outputs": [],
   "source": []
  },
  {
   "cell_type": "code",
   "execution_count": null,
   "metadata": {},
   "outputs": [],
   "source": []
  },
  {
   "cell_type": "code",
   "execution_count": null,
   "metadata": {},
   "outputs": [],
   "source": []
  }
 ],
 "metadata": {
  "kernelspec": {
   "display_name": "Python 3 (ipykernel)",
   "language": "python",
   "name": "python3"
  },
  "language_info": {
   "codemirror_mode": {
    "name": "ipython",
    "version": 3
   },
   "file_extension": ".py",
   "mimetype": "text/x-python",
   "name": "python",
   "nbconvert_exporter": "python",
   "pygments_lexer": "ipython3",
   "version": "3.9.13"
  }
 },
 "nbformat": 4,
 "nbformat_minor": 2
}
