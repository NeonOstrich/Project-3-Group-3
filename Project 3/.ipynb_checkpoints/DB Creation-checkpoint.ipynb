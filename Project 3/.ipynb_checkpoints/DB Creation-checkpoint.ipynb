{
 "cells": [
  {
   "cell_type": "code",
   "execution_count": 2,
   "metadata": {},
   "outputs": [
    {
     "ename": "NameError",
     "evalue": "name 'df' is not defined",
     "output_type": "error",
     "traceback": [
      "\u001b[1;31m---------------------------------------------------------------------------\u001b[0m",
      "\u001b[1;31mNameError\u001b[0m                                 Traceback (most recent call last)",
      "Cell \u001b[1;32mIn[2], line 6\u001b[0m\n\u001b[0;32m      2\u001b[0m \u001b[39mimport\u001b[39;00m \u001b[39mpandas\u001b[39;00m \u001b[39mas\u001b[39;00m \u001b[39mpd\u001b[39;00m\n\u001b[0;32m      5\u001b[0m conn \u001b[39m=\u001b[39m sqlite3\u001b[39m.\u001b[39mconnect(\u001b[39m'\u001b[39m\u001b[39minfant_mortality.db\u001b[39m\u001b[39m'\u001b[39m)\n\u001b[1;32m----> 6\u001b[0m df\u001b[39m.\u001b[39mto_sql(\u001b[39m'\u001b[39m\u001b[39minfantmortalityrates\u001b[39m\u001b[39m'\u001b[39m, conn, if_exists\u001b[39m=\u001b[39m\u001b[39m'\u001b[39m\u001b[39mreplace\u001b[39m\u001b[39m'\u001b[39m)\n\u001b[0;32m      7\u001b[0m engine \u001b[39m=\u001b[39m create_engine(\u001b[39m\"\u001b[39m\u001b[39msqlite:///infant_mortality.db\u001b[39m\u001b[39m\"\u001b[39m)\n\u001b[0;32m      8\u001b[0m df_pd \u001b[39m=\u001b[39m pd\u001b[39m.\u001b[39mread_sql(\u001b[39m\"\u001b[39m\u001b[39mSELECT * FROM infantmortalityrates\u001b[39m\u001b[39m\"\u001b[39m,conn)\n",
      "\u001b[1;31mNameError\u001b[0m: name 'df' is not defined"
     ]
    }
   ],
   "source": [
    "import sqlite3\n",
    "import pandas as pd\n",
    "\n",
    "\n",
    "conn = sqlite3.connect('infant_mortality.db')\n",
    "df.to_sql('infantmortalityrates', conn, if_exists='replace')\n",
    "engine = create_engine(\"sqlite:///infant_mortality.db\")\n",
    "df_pd = pd.read_sql(\"SELECT * FROM infantmortalityrates\",conn)\n",
    "df_pd.to_dict(orient=\"records\")"
   ]
  },
  {
   "cell_type": "code",
   "execution_count": null,
   "metadata": {},
   "outputs": [],
   "source": []
  }
 ],
 "metadata": {
  "kernelspec": {
   "display_name": "Python 3 (ipykernel)",
   "language": "python",
   "name": "python3"
  },
  "language_info": {
   "codemirror_mode": {
    "name": "ipython",
    "version": 3
   },
   "file_extension": ".py",
   "mimetype": "text/x-python",
   "name": "python",
   "nbconvert_exporter": "python",
   "pygments_lexer": "ipython3",
   "version": "3.10.9"
  }
 },
 "nbformat": 4,
 "nbformat_minor": 2
}
